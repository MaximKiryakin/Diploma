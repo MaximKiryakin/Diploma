{
 "cells": [
  {
   "cell_type": "code",
   "execution_count": 1,
   "id": "16212a59-df9d-4afd-8212-7d645bc524be",
   "metadata": {},
   "outputs": [],
   "source": [
    "from urllib.parse import urlencode\n",
    "from urllib.request import urlopen\n",
    "from datetime import datetime\n",
    "import pandas as pd\n",
    "\n",
    "from utils.LabelsDict import tickers\n",
    "from utils.load_data import *\n",
    "from typing import List, Optional\n"
   ]
  },
  {
   "cell_type": "code",
   "execution_count": 2,
   "id": "6f4ba89c-71b8-4547-bfad-4fc23a3f5ecf",
   "metadata": {},
   "outputs": [
    {
     "name": "stdout",
     "output_type": "stream",
     "text": [
      "2025-04-05 21:19:27,913:utils.portfolio:INFO: Stocks data was loaded from backup\n",
      "2025-04-05 21:19:28,241:utils.portfolio:INFO: Multipliers data was loaded\n",
      "2025-04-05 21:19:28,255:utils.portfolio:INFO: Portfolio was created\n"
     ]
    }
   ],
   "source": [
    "from utils.logger import Logger\n",
    "\n",
    "log = Logger(__name__).get_logger()\n",
    "\n",
    "from utils.portfolio import Portfolio\n",
    "\n",
    "\n",
    "calc = Portfolio(\n",
    "    dt_calc='30.10.2024',\n",
    "    dt_start='03.11.2019',\n",
    "    stocks_step=10,\n",
    "    tickers_list= [\n",
    "        'GAZP', 'LKOH', 'ROSN',\n",
    "        'SBER', 'VTBR',\n",
    "        'GMKN', 'NLMK', 'RUAL',\n",
    "        'MTSS', 'RTKM',\n",
    "        'MGNT',  'LNTA',\n",
    "    ]\n",
    ")\n",
    "calc= calc.load_stock_data(use_backup_data=True).load_multipliers().create_portfolio()"
   ]
  },
  {
   "cell_type": "code",
   "execution_count": 4,
   "id": "5ba38aab-0768-45f9-8df4-776049618aec",
   "metadata": {},
   "outputs": [
    {
     "name": "stdout",
     "output_type": "stream",
     "text": [
      "/home/maxim/Projects/Diploma/masters\n"
     ]
    }
   ],
   "source": [
    "!pwd"
   ]
  },
  {
   "cell_type": "code",
   "execution_count": null,
   "id": "143a7eb9-9d06-41a7-9f7b-d1317dbb4e5d",
   "metadata": {},
   "outputs": [],
   "source": []
  }
 ],
 "metadata": {
  "kernelspec": {
   "display_name": "Python 3 (ipykernel)",
   "language": "python",
   "name": "python3"
  },
  "language_info": {
   "codemirror_mode": {
    "name": "ipython",
    "version": 3
   },
   "file_extension": ".py",
   "mimetype": "text/x-python",
   "name": "python",
   "nbconvert_exporter": "python",
   "pygments_lexer": "ipython3",
   "version": "3.10.12"
  }
 },
 "nbformat": 4,
 "nbformat_minor": 5
}
