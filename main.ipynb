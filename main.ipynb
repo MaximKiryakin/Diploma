{
 "cells": [
  {
   "cell_type": "code",
   "execution_count": 1,
   "id": "16212a59-df9d-4afd-8212-7d645bc524be",
   "metadata": {},
   "outputs": [
    {
     "name": "stdout",
     "output_type": "stream",
     "text": [
      "Defaulting to user installation because normal site-packages is not writeable\n",
      "Requirement already satisfied: numpy==1.24.4 in /home/maxim/.local/lib/python3.10/site-packages (from -r requirements.txt (line 1)) (1.24.4)\n",
      "Requirement already satisfied: scipy==1.15.2 in /home/maxim/.local/lib/python3.10/site-packages (from -r requirements.txt (line 2)) (1.15.2)\n",
      "Requirement already satisfied: openpyxl==3.1.5 in /home/maxim/.local/lib/python3.10/site-packages (from -r requirements.txt (line 3)) (3.1.5)\n",
      "Requirement already satisfied: scikit-learn==1.4.0 in /home/maxim/.local/lib/python3.10/site-packages (from -r requirements.txt (line 4)) (1.4.0)\n",
      "Requirement already satisfied: et-xmlfile in /home/maxim/.local/lib/python3.10/site-packages (from openpyxl==3.1.5->-r requirements.txt (line 3)) (2.0.0)\n",
      "Requirement already satisfied: threadpoolctl>=2.0.0 in /home/maxim/.local/lib/python3.10/site-packages (from scikit-learn==1.4.0->-r requirements.txt (line 4)) (3.6.0)\n",
      "Requirement already satisfied: joblib>=1.2.0 in /home/maxim/.local/lib/python3.10/site-packages (from scikit-learn==1.4.0->-r requirements.txt (line 4)) (1.4.2)\n"
     ]
    }
   ],
   "source": [
    "import warnings\n",
    "import pandas as pd\n",
    "\n",
    "from utils.LabelsDict import tickers\n",
    "from utils.load_data import *\n",
    "from utils.logger import Logger\n",
    "\n",
    "warnings.filterwarnings(\"ignore\", category=UserWarning, message=\"Unable to import Axes3D\")\n",
    "\n",
    "from utils.portfolio import Portfolio\n",
    "\n",
    "log = Logger(__name__).get_logger()\n",
    "\n",
    "!pip install -r requirements.txt"
   ]
  },
  {
   "cell_type": "code",
   "execution_count": 2,
   "id": "e2175742-42c5-4e95-9aa4-4fda6a4883ef",
   "metadata": {},
   "outputs": [],
   "source": [
    "tickers_list = [\n",
    "    'GAZP', 'LKOH', 'ROSN',\n",
    "    'SBER', 'VTBR', 'MOEX',\n",
    "    'GMKN', 'NLMK', 'RUAL',\n",
    "    'MTSS', 'RTKM', 'TTLK',\n",
    "    'MGNT', 'LNTA', 'FESH',\n",
    "] \n",
    "\n",
    "calc = Portfolio(\n",
    "    dt_calc='30.10.2024',                                     # дата, до которой выгружаются данные\n",
    "    dt_start='03.11.2019',                                    # максимальная глубина, которая есть на Финам\n",
    "    stocks_step=10,                                           # указвыаем, что нужны месячные данные\n",
    "    tickers_list=[\n",
    "        'GAZP', 'LKOH', 'ROSN',\n",
    "        'SBER', 'VTBR', 'MOEX',\n",
    "        'GMKN', 'NLMK', 'RUAL',\n",
    "        'MTSS', 'RTKM', 'TTLK',\n",
    "        'MGNT', 'LNTA', 'FESH',\n",
    "    ] \n",
    ")"
   ]
  },
  {
   "cell_type": "code",
   "execution_count": 3,
   "id": "6f4ba89c-71b8-4547-bfad-4fc23a3f5ecf",
   "metadata": {},
   "outputs": [
    {
     "name": "stdout",
     "output_type": "stream",
     "text": [
      "2025-05-02 12:53:48,859:utils.portfolio:INFO: ============================================================\n",
      "2025-05-02 12:53:48,861:utils.portfolio:INFO: ANALYSIS STARTED | Python 3.10.12 (main, Feb  4 2025, 14:57:36) [GCC 11.4.0] | Matplotlib 3.10.1\n",
      "2025-05-02 12:53:48,863:utils.portfolio:INFO: ============================================================\n",
      "2025-05-02 12:53:48,869:utils.portfolio:INFO: Stocks data loaded from backup | Records: 855\n",
      "2025-05-02 12:53:49,257:utils.portfolio:INFO: Multipliers data loaded | Features: ['ticker', 'year', 'quarter', 'EV/EBITDA', 'P/BV', 'P/E', 'P/FCF', 'P/S', 'Долг, млрд руб', 'Долг/EBITDA', 'Капитализация, млрд руб', 'Чистый долг, млрд руб']\n",
      "2025-05-02 12:53:49,266:utils.portfolio:INFO: Portfolio created | Companies: 15\n",
      "2025-05-02 12:53:49,293:utils.portfolio:INFO: Column types adjusted: ['Долг, млрд руб', 'Капитализация, млрд руб', 'Чистый долг, млрд руб', 'high', 'low', 'close', 'EV/EBITDA', 'P/BV', 'P/E', 'P/S', 'open', 'Долг/EBITDA']\n",
      "2025-05-02 12:53:49,706:utils.portfolio:INFO: Macro indicators added: Interest rate, Unemployment, Inflation, USD/RUB\n",
      "2025-05-02 12:53:49,733:utils.portfolio:INFO: Missing values share in: Debt (33.6 %),Cap (13.0 %), USD/RUB (32.3 %)\n",
      "2025-05-02 12:53:49,738:utils.portfolio:INFO: Missing values filled in: ['debt', 'capitalization', 'usd_rub']\n",
      "2025-05-02 12:53:52,321:utils.portfolio:INFO: Capital cost and capital volatility calculated.\n",
      "2025-05-02 12:53:52,326:utils.portfolio:INFO: Merton's probabilities of default calculated.\n",
      "2025-05-02 12:53:57,831:utils.portfolio:INFO: PD graphs saved | Companies: 15 | Path: logs/graphs/\n",
      "2025-05-02 12:54:03,865:utils.portfolio:INFO: Stock prices graphs saved | Companies: 15 | Path: logs/graphs/\n",
      "2025-05-02 12:54:10,012:utils.portfolio:INFO: Capitalization-debt graphs saved | Companies: 15 | Path: logs/graphs/debt_catitalization.png\n",
      "2025-05-02 12:54:10,179:utils.portfolio:INFO: Optimal lag number calculated | Optimal number of lags: 6\n",
      "2025-05-02 12:54:11,027:utils.portfolio:INFO: Impulse response functions saved | Path: logs/graphs/\n",
      "2025-05-02 12:54:12,927:utils.portfolio:INFO: Correlation matrix saved | Path: logs/graphs/corr_matrix.png\n",
      "2025-05-02 12:54:58,554:utils.portfolio:INFO: Macro connection summary calculated.\n",
      "2025-05-02 12:54:58,556:utils.portfolio:INFO: ============================================================\n",
      "2025-05-02 12:54:58,560:utils.portfolio:INFO: ANALYSIS COMPLETED | Duration: 69.7 sec\n",
      "2025-05-02 12:54:58,563:utils.portfolio:INFO: ============================================================\n"
     ]
    },
    {
     "data": {
      "text/plain": [
       "<Figure size 720x288 with 0 Axes>"
      ]
     },
     "metadata": {},
     "output_type": "display_data"
    },
    {
     "data": {
      "text/plain": [
       "<Figure size 720x288 with 0 Axes>"
      ]
     },
     "metadata": {},
     "output_type": "display_data"
    },
    {
     "data": {
      "text/plain": [
       "<Figure size 720x288 with 0 Axes>"
      ]
     },
     "metadata": {},
     "output_type": "display_data"
    }
   ],
   "source": [
    "calc = (\n",
    "    calc\n",
    "    .log_system_info()                                        # вывести в лог конфигурацию расчета\n",
    "    .load_stock_data(                                         # загрузка рыночных данных цен закрытия компаний\n",
    "        use_backup_data=True,                                 # загружать данные из backup копии\n",
    "        create_backup=False                                   # обновить backup копию (в случае есть получены новые данные)\n",
    "    )\n",
    "    .load_multipliers()                                       # выделить мультипликаторы из МСФО\n",
    "    .create_portfolio()                                       # создать портфель с загруженными данными\n",
    "    .adjust_portfolio_data_types()                            # провести настройку форматов дат и типов данных\n",
    "    .add_macro_data()                                         # загрузить макропараметры\n",
    "    .fill_missing_values()                                    # обработать пропуски в данных\n",
    "    .add_dynamic_features()                                   # проставить динамические признаки по дате, например, квартал\n",
    "    .add_merton_pd()                                          # выполнить расчет вероятности дефолта по формуле Мертона\n",
    "    .plot_pd_by_tickers(tickers=tickers_list, verbose=False)  # нарисовать графики для вероятностей дефолта\n",
    "    .plot_stocks(tickers=tickers_list, verbose=False)         # нарисовать динамику котировок акций\n",
    "    .plot_debt_capitalization(verbose=False)                  # нарисовать динамику долга и стоимости активов\n",
    "    .calc_irf(impulses_responses = {                          # расчитать функции импульсного отклика\n",
    "        'inflation': 'PD', 'interest_rate': 'PD', \n",
    "        'usd_rub': 'PD', 'unemployment_rate': 'PD'\n",
    "    }, verbose=False)\n",
    "    .plot_correlation_matrix(custom_order = [                 # нарисовать матрицу корреляций\n",
    "        'GAZP', 'LKOH', 'ROSN',                               # Нефтегазовая отрасль\n",
    "        'SBER', 'VTBR', 'MOEX',                               # Финансовый сектор\n",
    "        'GMKN', 'NLMK', 'RUAL',                               # Металлургия\n",
    "        'MTSS', 'RTKM', 'TTLK',                               # Телекоммуникации\n",
    "        'MGNT', 'LNTA', 'FESH'                                # Розничная торговля\n",
    "    ], verbose=False)\n",
    "    .calc_macro_connections()                                 # расчитать регрессию для макропараметров\n",
    "    .log_completion()                                         # вывести в лог сообщение об окончании расчета\n",
    ")"
   ]
  },
  {
   "cell_type": "code",
   "execution_count": 6,
   "id": "7ac12e45-00e6-494c-ba18-2257dcd939ea",
   "metadata": {},
   "outputs": [],
   "source": [
    "!cp logs/graphs/GAZP_pd.png text/img/GAZP_pd.png\n",
    "!cp logs/graphs/irf_inflation_PD.png text/img/irf_inflation_PD.png\n",
    "!cp logs/graphs/irf_interest_rate_PD.png text/img/irf_interest_rate_PD.png\n",
    "!cp logs/graphs/corr_matrix.png text/img/corr_matrix.png"
   ]
  }
 ],
 "metadata": {
  "kernelspec": {
   "display_name": "Python 3 (ipykernel)",
   "language": "python",
   "name": "python3"
  },
  "language_info": {
   "codemirror_mode": {
    "name": "ipython",
    "version": 3
   },
   "file_extension": ".py",
   "mimetype": "text/x-python",
   "name": "python",
   "nbconvert_exporter": "python",
   "pygments_lexer": "ipython3",
   "version": "3.10.12"
  }
 },
 "nbformat": 4,
 "nbformat_minor": 5
}
